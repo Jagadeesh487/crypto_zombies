{
 "cells": [
  {
   "cell_type": "markdown",
   "metadata": {},
   "source": [
    "# Hardhat\n",
    "\n",
    "#### **Command for testing one file from n number of file**\n",
    "<li> Command for testing one test file \"npx hardhat test filepath\" </li>\n",
    "<li>Example: \"npx hardhat test test/file_name.js\" </li>\n",
    "<li>Note: Type the above command from the hardhat intilized directory.</li>"
   ]
  }
 ],
 "metadata": {
  "language_info": {
   "name": "python"
  },
  "orig_nbformat": 4
 },
 "nbformat": 4,
 "nbformat_minor": 2
}
